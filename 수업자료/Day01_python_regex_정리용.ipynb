{
  "nbformat": 4,
  "nbformat_minor": 0,
  "metadata": {
    "colab": {
      "name": "Day01_python_regex_정리용.ipynb",
      "provenance": [],
      "collapsed_sections": []
    },
    "kernelspec": {
      "display_name": "Python 3",
      "language": "python",
      "name": "python3"
    },
    "language_info": {
      "codemirror_mode": {
        "name": "ipython",
        "version": 3
      },
      "file_extension": ".py",
      "mimetype": "text/x-python",
      "name": "python",
      "nbconvert_exporter": "python",
      "pygments_lexer": "ipython3",
      "version": "3.7.6"
    }
  },
  "cells": [
    {
      "cell_type": "markdown",
      "metadata": {
        "id": "dzNng6vCL9eP"
      },
      "source": [
        "#Python 초급 및 중급 튜토리얼\n"
      ]
    },
    {
      "cell_type": "markdown",
      "metadata": {
        "id": "0vJLt3JRL9eR"
      },
      "source": [
        "강의자: 홍연정\n",
        "\n",
        "본 튜토리얼은 Kevin Zakka의 2020 봄학기 [cs231n](https://cs231n.github.io/) 강좌 일부를 발췌하였고, 본 수업의 목적에 맞게 필요한 내용을 추가하여 재구성한 자료입니다. Python3의 문법을 따릅니다."
      ]
    },
    {
      "cell_type": "markdown",
      "metadata": {
        "id": "qVrTo-LhL9eS"
      },
      "source": [
        "##Introduction"
      ]
    },
    {
      "cell_type": "markdown",
      "metadata": {
        "id": "9t1gKp9PL9eV"
      },
      "source": [
        "Python은 다양한 목적으로 활용될 수 있는 프로그래밍 언어입니다. numpy, scipy, matplotlib과 같은 라이브러리를 추가로 활용해서 각종 통계 및 데이터 분석을 해낼 수 있고, 나아가 머신러닝 도구로도 사용할 수 있습니다.\n",
        "\n",
        "본 수업에서는 Python 기초 연산자를 빠르게 복습하고, 자연어처리에 필요한 정규표현식 라이브러리 re를 활용하는 방법을 배우는 것을 목표로 합니다.\n"
      ]
    },
    {
      "cell_type": "markdown",
      "metadata": {
        "id": "U1PvreR9L9eW"
      },
      "source": [
        "학습 목표 내용은 다음과 같습니다.\n",
        "\n",
        "* Python 기초: 기본 자료형 (컨테이너, 리스트, 딕셔너리, 집합, 튜플), 함수, 클래스\n",
        "* 정규표현식: 정규표현식 기본 패턴 및 Python re 라이브러리 내장 함수 활용 연습\n"
      ]
    },
    {
      "cell_type": "markdown",
      "metadata": {
        "id": "nxvEkGXPM3Xh"
      },
      "source": [
        "## Python 버전에 대하여\n",
        "\n",
        "2020년 1월 1일부터 Python은 `Python2`에 대한 [공식적인 지원을 중단](https://www.python.org/doc/sunset-python-2/)하였습니다. 따라서 본 강좌에서는 Python 3.7을 사용합니다. Python 버전은 터미널 혹은 DOS 창에서 `python --version` 과 같은 명령문을 통해 확인하실 수 있습니다. Colab에서 Python3을 사용하려면 `런타임 -> 런타임 유형 변경`에서 `python3`을 클릭하면 됩니다."
      ]
    },
    {
      "cell_type": "code",
      "metadata": {
        "colab": {
          "base_uri": "https://localhost:8080/"
        },
        "id": "1L4Am0QATgOc",
        "outputId": "85df7e93-4a24-4134-fd85-735363f527be"
      },
      "source": [
        "!python --version"
      ],
      "execution_count": null,
      "outputs": [
        {
          "output_type": "stream",
          "text": [
            "Python 3.7.10\n"
          ],
          "name": "stdout"
        }
      ]
    },
    {
      "cell_type": "markdown",
      "metadata": {
        "id": "JAFKYgrpL9eY"
      },
      "source": [
        "##Python 기초"
      ]
    },
    {
      "cell_type": "markdown",
      "metadata": {
        "id": "RbFS6tdgL9ea"
      },
      "source": [
        "Python은 하이 레벨 언어(high-level langauge)입니다. 수준이 높은 언어라는 뜻이 아니고, 코드 문법이나 진행이 인간이 읽고 이해하기 쉽다는 의미입니다.\n",
        "\n",
        "Python은 다이나믹 타이핑 언어(dynamically typed programming language)입니다. 변수를 정의할 때마다 자료형을 지정해주지 않아도 된다는 의미입니다.\n"
      ]
    },
    {
      "cell_type": "code",
      "metadata": {
        "colab": {
          "base_uri": "https://localhost:8080/"
        },
        "id": "cYb0pjh1L9eb",
        "outputId": "13ff8f4a-e2a7-4275-f37d-22b4071b635c"
      },
      "source": [
        "def quicksort(arr):\n",
        "    if len(arr) <= 1:\n",
        "        return arr\n",
        "    pivot = arr[len(arr) // 2]\n",
        "    left = [x for x in arr if x < pivot]\n",
        "    middle = [x for x in arr if x == pivot]\n",
        "    right = [x for x in arr if x > pivot]\n",
        "    return quicksort(left) + middle + quicksort(right)\n",
        "\n",
        "print(quicksort([3,6,8,10,1,2,1]))"
      ],
      "execution_count": null,
      "outputs": [
        {
          "output_type": "stream",
          "text": [
            "[1, 1, 2, 3, 6, 8, 10]\n"
          ],
          "name": "stdout"
        }
      ]
    },
    {
      "cell_type": "markdown",
      "metadata": {
        "id": "NwS_hu4xL9eo"
      },
      "source": [
        "###기본 자료형"
      ]
    },
    {
      "cell_type": "markdown",
      "metadata": {
        "id": "DL5sMSZ9L9eq"
      },
      "source": [
        "####숫자(Numbers)\n"
      ]
    },
    {
      "cell_type": "markdown",
      "metadata": {
        "id": "MGS0XEWoL9er"
      },
      "source": [
        "정수(integers) 및 실수(floats)"
      ]
    },
    {
      "cell_type": "code",
      "metadata": {
        "colab": {
          "base_uri": "https://localhost:8080/"
        },
        "id": "KheDr_zDL9es",
        "outputId": "fd14fd89-76ed-4c31-aa51-b3ee617b9891"
      },
      "source": [
        "x = 3\n",
        "print(x, type(x))"
      ],
      "execution_count": null,
      "outputs": [
        {
          "output_type": "stream",
          "text": [
            "3 <class 'int'>\n"
          ],
          "name": "stdout"
        }
      ]
    },
    {
      "cell_type": "code",
      "metadata": {
        "colab": {
          "base_uri": "https://localhost:8080/"
        },
        "id": "sk_8DFcuL9ey",
        "outputId": "bc4f1fda-636a-4b5c-ec96-96abfb83dffe"
      },
      "source": [
        "print(x + 1)   # 더하기\n",
        "print(x - 1)   # 빼기\n",
        "print(x * 2)   # 곱하기\n",
        "print(x ** 2)  # 제곱하기"
      ],
      "execution_count": null,
      "outputs": [
        {
          "output_type": "stream",
          "text": [
            "4\n",
            "2\n",
            "6\n",
            "9\n"
          ],
          "name": "stdout"
        }
      ]
    },
    {
      "cell_type": "code",
      "metadata": {
        "colab": {
          "base_uri": "https://localhost:8080/"
        },
        "id": "n5jtdrmm1sH1",
        "outputId": "4039e057-288a-45c5-e04c-39faa120a70c"
      },
      "source": [
        "print(2**3)\n",
        "print(5%3) # 나머지\n",
        "print(10%3) # 나머지\n",
        "print(5//3) # 몫\n",
        "print(10//3) # 몫\n",
        "print(5/3) # 나누기기"
      ],
      "execution_count": null,
      "outputs": [
        {
          "output_type": "stream",
          "text": [
            "8\n",
            "2\n",
            "1\n",
            "1\n",
            "3\n",
            "1.6666666666666667\n"
          ],
          "name": "stdout"
        }
      ]
    },
    {
      "cell_type": "code",
      "metadata": {
        "colab": {
          "base_uri": "https://localhost:8080/"
        },
        "id": "KpgRpf-U1eoA",
        "outputId": "57408665-10ad-4c4f-aab9-ce7ff344f203"
      },
      "source": [
        "print(10 > 3)\n",
        "print(4 >= 7)\n",
        "print(10 < 3)\n",
        "print( 5 <= 5)"
      ],
      "execution_count": null,
      "outputs": [
        {
          "output_type": "stream",
          "text": [
            "True\n",
            "False\n",
            "False\n",
            "True\n"
          ],
          "name": "stdout"
        }
      ]
    },
    {
      "cell_type": "code",
      "metadata": {
        "id": "CgHlofy24O2S"
      },
      "source": [
        "x = 9"
      ],
      "execution_count": null,
      "outputs": []
    },
    {
      "cell_type": "code",
      "metadata": {
        "colab": {
          "base_uri": "https://localhost:8080/"
        },
        "id": "U4Jl8K0tL9e4",
        "outputId": "1570f184-76af-4f6e-8fe0-f428bcfc25c6"
      },
      "source": [
        "# 연산 한 번에 표현하기\n",
        "x += 1\n",
        "print(x)\n",
        "x *= 2\n",
        "print(x)\n",
        "x /= 2\n",
        "print(x)\n",
        "x %= 3\n",
        "print(x)\n",
        "x //= 3\n",
        "print(x)"
      ],
      "execution_count": null,
      "outputs": [
        {
          "output_type": "stream",
          "text": [
            "10\n",
            "20\n",
            "10.0\n",
            "1.0\n",
            "0.0\n"
          ],
          "name": "stdout"
        }
      ]
    },
    {
      "cell_type": "code",
      "metadata": {
        "colab": {
          "base_uri": "https://localhost:8080/"
        },
        "id": "QZJvCGKilq2K",
        "outputId": "9742cf88-9729-4043-cde9-62f3c26147bc"
      },
      "source": [
        "x -= 1\n",
        "print(x)"
      ],
      "execution_count": null,
      "outputs": [
        {
          "output_type": "stream",
          "text": [
            "-1.0\n"
          ],
          "name": "stdout"
        }
      ]
    },
    {
      "cell_type": "code",
      "metadata": {
        "colab": {
          "base_uri": "https://localhost:8080/"
        },
        "id": "w-nZ0Sg_L9e9",
        "outputId": "30657e0d-c09c-407b-d308-283ea50ab299"
      },
      "source": [
        "y = 2.5\n",
        "print(type(y))\n",
        "print(y, y + 1, y * 2, y ** 2)"
      ],
      "execution_count": null,
      "outputs": [
        {
          "output_type": "stream",
          "text": [
            "<class 'float'>\n",
            "2.5 3.5 5.0 6.25\n"
          ],
          "name": "stdout"
        }
      ]
    },
    {
      "cell_type": "markdown",
      "metadata": {
        "id": "r2A9ApyaL9fB"
      },
      "source": [
        "다른 많은 프로그래밍 언어와는 다르게 Python에서는 **숫자를 하나씩 증가시킬 때 x++, 하나씩 감소시킬 때, x--와 같은 오퍼레이터를 사용할 수 없습니다.**\n",
        "\n",
        "Python의 내장 자료형 중에는 int보다 범위가 큰 정수(long)와 복소수(complex)도 있습니다. 자세한 사항은 [자료](https://docs.python.org/3.7/library/stdtypes.html#numeric-types-int-float-long-complex)를 참조하세요."
      ]
    },
    {
      "cell_type": "markdown",
      "metadata": {
        "id": "EqRS7qhBL9fC"
      },
      "source": [
        "####불리언(Booleans)"
      ]
    },
    {
      "cell_type": "markdown",
      "metadata": {
        "id": "Nv_LIVOJL9fD"
      },
      "source": [
        "Python도 다른 언어와 마찬가지로 boolean 로직을 위한 오퍼레이터를 제공하지만 **`&&`, `||` 등과 같은 기호보다는 `and`, `or`** 등의 영단어를 사용합니다."
      ]
    },
    {
      "cell_type": "code",
      "metadata": {
        "colab": {
          "base_uri": "https://localhost:8080/"
        },
        "id": "RvoImwgGL9fE",
        "outputId": "bce77683-0cdf-4d74-d444-ef57d623a3b2"
      },
      "source": [
        "t, f = True, False\n",
        "print(type(t))"
      ],
      "execution_count": null,
      "outputs": [
        {
          "output_type": "stream",
          "text": [
            "<class 'bool'>\n"
          ],
          "name": "stdout"
        }
      ]
    },
    {
      "cell_type": "markdown",
      "metadata": {
        "id": "YQgmQfOgL9fI"
      },
      "source": [
        "아래는 4가지 Boolean 오퍼레이터입니다."
      ]
    },
    {
      "cell_type": "code",
      "metadata": {
        "id": "EBK1mVp55Rjz"
      },
      "source": [
        "# XOR관련\n",
        "# https://arbee.tistory.com/29"
      ],
      "execution_count": null,
      "outputs": []
    },
    {
      "cell_type": "code",
      "metadata": {
        "colab": {
          "base_uri": "https://localhost:8080/"
        },
        "id": "6zYm7WzCL9fK",
        "outputId": "4b313d83-ac76-46a4-9858-f799b4810ed5"
      },
      "source": [
        "print(t and f) # Logical AND;\n",
        "print(t or f)  # Logical OR;\n",
        "print(not t)   # Logical NOT;\n",
        "print(t != f)  # Logical XOR;"
      ],
      "execution_count": null,
      "outputs": [
        {
          "output_type": "stream",
          "text": [
            "False\n",
            "True\n",
            "False\n",
            "True\n"
          ],
          "name": "stdout"
        }
      ]
    },
    {
      "cell_type": "markdown",
      "metadata": {
        "id": "UQnQWFEyL9fP"
      },
      "source": [
        "####문자열(Strings)"
      ]
    },
    {
      "cell_type": "code",
      "metadata": {
        "colab": {
          "base_uri": "https://localhost:8080/"
        },
        "id": "AijEDtPFL9fP",
        "outputId": "4aaf62bb-4f39-44b3-8d21-b910d7b27c1b"
      },
      "source": [
        "hello = 'hello'   # 문자열은 작은 따옴표를 사용해도 되고,\n",
        "world = \"world\"   # 큰 따옴표를 사용해도 됩니다.\n",
        "print(hello, len(hello))"
      ],
      "execution_count": null,
      "outputs": [
        {
          "output_type": "stream",
          "text": [
            "hello 5\n"
          ],
          "name": "stdout"
        }
      ]
    },
    {
      "cell_type": "code",
      "metadata": {
        "colab": {
          "base_uri": "https://localhost:8080/"
        },
        "id": "saDeaA7hL9fT",
        "outputId": "c2d9d087-86bb-4603-808c-0a76dbe4a641"
      },
      "source": [
        "hw = hello + ' ' + world  # 문자열 합치기는 + 를 사용\n",
        "print(hw)"
      ],
      "execution_count": null,
      "outputs": [
        {
          "output_type": "stream",
          "text": [
            "hello world\n"
          ],
          "name": "stdout"
        }
      ]
    },
    {
      "cell_type": "code",
      "metadata": {
        "colab": {
          "base_uri": "https://localhost:8080/"
        },
        "id": "Nji1_UjYL9fY",
        "outputId": "097be709-390a-43e9-8432-2e2b8c8b50d1"
      },
      "source": [
        "# 문자열 포맷팅\n",
        "hw12 = '{} {} {}'.format(hello, world, 12)  # 문자열 포매팅\n",
        "print(hw12)"
      ],
      "execution_count": null,
      "outputs": [
        {
          "output_type": "stream",
          "text": [
            "hello world 12\n"
          ],
          "name": "stdout"
        }
      ]
    },
    {
      "cell_type": "code",
      "metadata": {
        "colab": {
          "base_uri": "https://localhost:8080/"
        },
        "id": "IkB9losg7mH1",
        "outputId": "e384fd59-e230-492d-9276-3930a4e82002"
      },
      "source": [
        "print('{1} {2} {0}'.format(hello, world, 12))"
      ],
      "execution_count": null,
      "outputs": [
        {
          "output_type": "stream",
          "text": [
            "world 12 hello\n"
          ],
          "name": "stdout"
        }
      ]
    },
    {
      "cell_type": "code",
      "metadata": {
        "colab": {
          "base_uri": "https://localhost:8080/"
        },
        "id": "WwK44Uho6Obv",
        "outputId": "b8d6bd5e-7de0-400c-9e82-d8bd1954d462"
      },
      "source": [
        "print(\"나는 {}살입니다.\".format(20))\n",
        "print(\"나는 {0}색과 {1}색을 좋아해요.\".format(\"파란\", \"빨간\"))\n",
        "print(\"나는 {1}색과 {0}색을 좋아해요.\".format(\"파란\", \"빨간\"))"
      ],
      "execution_count": null,
      "outputs": [
        {
          "output_type": "stream",
          "text": [
            "나는 20살입니다.\n",
            "나는 파란색과 빨간색을 좋아해요.\n",
            "나는 빨간색과 파란색을 좋아해요.\n"
          ],
          "name": "stdout"
        }
      ]
    },
    {
      "cell_type": "code",
      "metadata": {
        "colab": {
          "base_uri": "https://localhost:8080/",
          "height": 204
        },
        "id": "0cPl4izq66Rz",
        "outputId": "eb8ea712-3673-4815-a207-f07abe61af4c"
      },
      "source": [
        "print(\"나는 {age}살이며, {color}색을 좋아해요.\".format(age = 20, color=\"빨간\"))\n",
        "print(\"나는 {0}살이며, {1}색을 좋아해요.\".format(age = 20, color=\"빨간\"))"
      ],
      "execution_count": null,
      "outputs": [
        {
          "output_type": "stream",
          "text": [
            "나는 20살이며, 빨간색을 좋아해요.\n"
          ],
          "name": "stdout"
        },
        {
          "output_type": "error",
          "ename": "IndexError",
          "evalue": "ignored",
          "traceback": [
            "\u001b[0;31m---------------------------------------------------------------------------\u001b[0m",
            "\u001b[0;31mIndexError\u001b[0m                                Traceback (most recent call last)",
            "\u001b[0;32m<ipython-input-29-cbb14735dc29>\u001b[0m in \u001b[0;36m<module>\u001b[0;34m()\u001b[0m\n\u001b[1;32m      1\u001b[0m \u001b[0mprint\u001b[0m\u001b[0;34m(\u001b[0m\u001b[0;34m\"나는 {age}살이며, {color}색을 좋아해요.\"\u001b[0m\u001b[0;34m.\u001b[0m\u001b[0mformat\u001b[0m\u001b[0;34m(\u001b[0m\u001b[0mage\u001b[0m \u001b[0;34m=\u001b[0m \u001b[0;36m20\u001b[0m\u001b[0;34m,\u001b[0m \u001b[0mcolor\u001b[0m\u001b[0;34m=\u001b[0m\u001b[0;34m\"빨간\"\u001b[0m\u001b[0;34m)\u001b[0m\u001b[0;34m)\u001b[0m\u001b[0;34m\u001b[0m\u001b[0;34m\u001b[0m\u001b[0m\n\u001b[0;32m----> 2\u001b[0;31m \u001b[0mprint\u001b[0m\u001b[0;34m(\u001b[0m\u001b[0;34m\"나는 {0}살이며, {1}색을 좋아해요.\"\u001b[0m\u001b[0;34m.\u001b[0m\u001b[0mformat\u001b[0m\u001b[0;34m(\u001b[0m\u001b[0mage\u001b[0m \u001b[0;34m=\u001b[0m \u001b[0;36m20\u001b[0m\u001b[0;34m,\u001b[0m \u001b[0mcolor\u001b[0m\u001b[0;34m=\u001b[0m\u001b[0;34m\"빨간\"\u001b[0m\u001b[0;34m)\u001b[0m\u001b[0;34m)\u001b[0m\u001b[0;34m\u001b[0m\u001b[0;34m\u001b[0m\u001b[0m\n\u001b[0m",
            "\u001b[0;31mIndexError\u001b[0m: tuple index out of range"
          ]
        }
      ]
    },
    {
      "cell_type": "code",
      "metadata": {
        "colab": {
          "base_uri": "https://localhost:8080/"
        },
        "id": "fPiibh2z7uxJ",
        "outputId": "85aa9017-366e-4493-d2c2-58863f2c60a4"
      },
      "source": [
        "age = 20\n",
        "color =\"빨간\"\n",
        "print(f\"나는 {age}살이며, {color}색을 좋아해요.\")"
      ],
      "execution_count": null,
      "outputs": [
        {
          "output_type": "stream",
          "text": [
            "나는 20살이며, 빨간색을 좋아해요.\n"
          ],
          "name": "stdout"
        }
      ]
    },
    {
      "cell_type": "markdown",
      "metadata": {
        "id": "bUpl35bIL9fc"
      },
      "source": [
        "문자열 객체는 여러 내장 속성 및 함수를 지닙니다."
      ]
    },
    {
      "cell_type": "code",
      "metadata": {
        "colab": {
          "base_uri": "https://localhost:8080/"
        },
        "id": "VOxGatlsL9fd",
        "outputId": "dccd90f7-a398-4c8d-85f6-2febae47728f"
      },
      "source": [
        "s = \"hello\"\n",
        "print(s.capitalize())  # 첫 글자만 대문자로 변환\n",
        "print(s.upper())       # 문자열 전체를 대문자로 변환\n",
        "print(s.rjust(7))      # 우측 정렬 (입력 숫자만큼 좌측에 공백 패딩)\n",
        "print(s.center(7))     # 가운데 정렬 (입력 숫자만큼 좌우 공백 패딩)\n",
        "print(s.replace('l', '(ell)'))  # 문자열 일부 치환\n",
        "print('  world '.strip())  # 문자열 앞뒤에 붙어있는 공백 삭제"
      ],
      "execution_count": null,
      "outputs": [
        {
          "output_type": "stream",
          "text": [
            "Hello\n",
            "HELLO\n",
            "  hello\n",
            " hello \n",
            "he(ell)(ell)o\n",
            "world\n"
          ],
          "name": "stdout"
        }
      ]
    },
    {
      "cell_type": "markdown",
      "metadata": {
        "id": "06cayXLtL9fi"
      },
      "source": [
        "문자열 내장 함수 전체 목록은 [공식문서](https://docs.python.org/3.7/library/stdtypes.html#string-methods)에서 확인하세요.\n",
        "\n"
      ]
    },
    {
      "cell_type": "markdown",
      "metadata": {
        "id": "p-6hClFjL9fk"
      },
      "source": [
        "###Containers"
      ]
    },
    {
      "cell_type": "markdown",
      "metadata": {
        "id": "FD9H18eQL9fk"
      },
      "source": [
        "Python 내장 컨테이너 자료형에는 리스트(lists), 딕셔너리(dictionaries), 집합(sets), 튜플(tuples)이 있습니다."
      ]
    },
    {
      "cell_type": "markdown",
      "metadata": {
        "id": "UsIWOe0LL9fn"
      },
      "source": [
        "####Lists"
      ]
    },
    {
      "cell_type": "markdown",
      "metadata": {
        "id": "wzxX7rgWL9fn"
      },
      "source": [
        "Python 리스트는 사이즈를 변경할 수 있고, 하나의 리스트 안에 서로 다른 자료형이 들어갈 수 있습니다."
      ]
    },
    {
      "cell_type": "code",
      "metadata": {
        "colab": {
          "base_uri": "https://localhost:8080/"
        },
        "id": "hk3A8pPcL9fp",
        "outputId": "8e7dc030-838d-4ee2-b710-e5f12ef5834a"
      },
      "source": [
        "xs = [3, 1, 2]   # 리스트 생성\n",
        "print(xs, xs[2])\n",
        "print(xs[-1]) # 음수 형태 인덱싱은 리스트 맨 끝 요소부터 카운트합니다. 예를 들어, -1은 맨 마지막, -2는 맨 마지막에서 두번째 요소입니다.\n",
        "print(xs[-2])"
      ],
      "execution_count": null,
      "outputs": [
        {
          "output_type": "stream",
          "text": [
            "[3, 1, 2] 2\n",
            "2\n",
            "1\n"
          ],
          "name": "stdout"
        }
      ]
    },
    {
      "cell_type": "code",
      "metadata": {
        "colab": {
          "base_uri": "https://localhost:8080/"
        },
        "id": "-GdRTKuRm3xh",
        "outputId": "e86a3bb0-35d0-4b02-e5e9-c69ebaff6095"
      },
      "source": [
        "xs = [3, 1, 2]   \n",
        "print(xs[-3]) "
      ],
      "execution_count": null,
      "outputs": [
        {
          "output_type": "stream",
          "text": [
            "3\n"
          ],
          "name": "stdout"
        }
      ]
    },
    {
      "cell_type": "code",
      "metadata": {
        "colab": {
          "base_uri": "https://localhost:8080/"
        },
        "id": "YCjCy_0_L9ft",
        "outputId": "c5a46b0d-5c41-46f0-f593-9f3fb0265804"
      },
      "source": [
        "xs[2] = 'foo'    # 리스트 안에는 문자열, 숫자 등 서로 다른 자료형이 요소로 들어갈 수 있습니다.\n",
        "print(xs)"
      ],
      "execution_count": null,
      "outputs": [
        {
          "output_type": "stream",
          "text": [
            "[3, 1, 'foo']\n"
          ],
          "name": "stdout"
        }
      ]
    },
    {
      "cell_type": "code",
      "metadata": {
        "colab": {
          "base_uri": "https://localhost:8080/"
        },
        "id": "vJ0x5cF-L9fx",
        "outputId": "e70a8ace-8194-4c15-b74f-6b27aeeb5bf8"
      },
      "source": [
        "xs.append('bar') # 리스트 맨 끝에 새로운 요소 추가\n",
        "print(xs)  "
      ],
      "execution_count": null,
      "outputs": [
        {
          "output_type": "stream",
          "text": [
            "[3, 1, 'foo', 'bar']\n"
          ],
          "name": "stdout"
        }
      ]
    },
    {
      "cell_type": "code",
      "metadata": {
        "colab": {
          "base_uri": "https://localhost:8080/"
        },
        "id": "cxVCNRTNL9f1",
        "outputId": "d6ee7e4f-7d99-4d0c-ee37-c0784c1e88a9"
      },
      "source": [
        "x = xs.pop()     # 리스트 맨 끝 요소 삭제 및 반환\n",
        "print(x, xs)"
      ],
      "execution_count": null,
      "outputs": [
        {
          "output_type": "stream",
          "text": [
            "bar [3, 1, 'foo']\n"
          ],
          "name": "stdout"
        }
      ]
    },
    {
      "cell_type": "markdown",
      "metadata": {
        "id": "ilyoyO34L9f4"
      },
      "source": [
        "리스트의 기타 내용은 [공식문서](https://docs.python.org/3.7/tutorial/datastructures.html#more-on-lists)에서 확인하세요."
      ]
    },
    {
      "cell_type": "markdown",
      "metadata": {
        "id": "ovahhxd_L9f5"
      },
      "source": [
        "####Slicing"
      ]
    },
    {
      "cell_type": "markdown",
      "metadata": {
        "id": "YeSYKhv9L9f6"
      },
      "source": [
        "리스트 요소를 한 번에 하나씩 접근할 수도 있지만, 리스트 범위를 지정해서 여러 요소를 한꺼번에 접근할 수도 있습니다. 이것을 slicing이라고 합니다."
      ]
    },
    {
      "cell_type": "code",
      "metadata": {
        "colab": {
          "base_uri": "https://localhost:8080/"
        },
        "id": "ninq666bL9f6",
        "outputId": "eb76c04f-6c61-4d8d-f1da-8a697cb3998f"
      },
      "source": [
        "nums = list(range(5))    # range 는 정수 목록을 생성하는 내장 함수입니다.\n",
        "print(nums)         # \"[0, 1, 2, 3, 4]\" 출력\n",
        "print(nums[2:4])    # 인덱스 2부터 4까지의 슬라이스 (인덱스 4 미포함); \"[2, 3]\" 출력\n",
        "print(nums[2:])     # 인덱스 2부터 끝까지의 슬라이스; \"[2, 3, 4]\" 출력\n",
        "print(nums[:2])     # 시작(인덱스 0)부터 인덱스 2까지의 슬라이스 (인덱스 2 미포함); \"[0, 1]\" 출력\n",
        "print(nums[:])      # 전체 리스트 슬라이스; [\"0, 1, 2, 3, 4]\" 출력\n",
        "print(nums[:-1])    # 음수 인덱싱 적용 가능; [\"0, 1, 2, 3]\" 출력\n",
        "nums[2:4] = [8, 9] # 인덱스 2부터 4까지의 슬라이스에 다른 값 지정\n",
        "print(nums)         # \"[0, 1, 8, 9, 4]\" 출력"
      ],
      "execution_count": null,
      "outputs": [
        {
          "output_type": "stream",
          "text": [
            "[0, 1, 2, 3, 4]\n",
            "[2, 3]\n",
            "[2, 3, 4]\n",
            "[0, 1]\n",
            "[0, 1, 2, 3, 4]\n",
            "[0, 1, 2, 3]\n",
            "[0, 1, 8, 9, 4]\n"
          ],
          "name": "stdout"
        }
      ]
    },
    {
      "cell_type": "code",
      "metadata": {
        "colab": {
          "base_uri": "https://localhost:8080/"
        },
        "id": "e0HkzBuM9b4O",
        "outputId": "d34e187f-ec4e-4205-fa84-9db8c67eff48"
      },
      "source": [
        "print(nums[:-2]) "
      ],
      "execution_count": null,
      "outputs": [
        {
          "output_type": "stream",
          "text": [
            "[0, 1, 8]\n"
          ],
          "name": "stdout"
        }
      ]
    },
    {
      "cell_type": "markdown",
      "metadata": {
        "id": "UONpMhF4L9f_"
      },
      "source": [
        "####Loops"
      ]
    },
    {
      "cell_type": "markdown",
      "metadata": {
        "id": "_DYz1j6QL9f_"
      },
      "source": [
        "리스트 요소를 다음과 같이 하나씩 차례로 loop 돌 수 있습니다."
      ]
    },
    {
      "cell_type": "code",
      "metadata": {
        "id": "ap2AQ_xBnrDe"
      },
      "source": [
        "# 리스트는 iterable한 데이터 타입(하나씩 차례대로 반환 가능한 object)\n",
        "# iterable한 데이터 타입으로는 list, str, tuple이 대표적이다."
      ],
      "execution_count": null,
      "outputs": []
    },
    {
      "cell_type": "code",
      "metadata": {
        "colab": {
          "base_uri": "https://localhost:8080/"
        },
        "id": "4cCOysfWL9gA",
        "outputId": "6601ad5d-83a2-4cb1-fe8b-6f84036df067"
      },
      "source": [
        "animals = ['cat', 'dog', 'monkey']\n",
        "for animal in animals:\n",
        "    print(animal)"
      ],
      "execution_count": null,
      "outputs": [
        {
          "output_type": "stream",
          "text": [
            "cat\n",
            "dog\n",
            "monkey\n"
          ],
          "name": "stdout"
        }
      ]
    },
    {
      "cell_type": "code",
      "metadata": {
        "colab": {
          "base_uri": "https://localhost:8080/"
        },
        "id": "Ny7S_JZewokn",
        "outputId": "e674260d-9425-43c7-ef28-376aaa5e4cac"
      },
      "source": [
        "# 중복 value 허용\n",
        "animals = ['cat', 'dog', 'monkey', 'cat']\n",
        "for animal in animals:\n",
        "    print(animal)"
      ],
      "execution_count": null,
      "outputs": [
        {
          "output_type": "stream",
          "text": [
            "cat\n",
            "dog\n",
            "monkey\n",
            "cat\n"
          ],
          "name": "stdout"
        }
      ]
    },
    {
      "cell_type": "markdown",
      "metadata": {
        "id": "KxIaQs7pL9gE"
      },
      "source": [
        "리스트 loop을 돌 때에, 각 요소의 **인덱스**를 동시에 참조하고 싶으면 내장 함수 `enumerate`를 사용합니다.\n",
        "\n",
        "\n",
        "\n",
        "\n"
      ]
    },
    {
      "cell_type": "code",
      "metadata": {
        "id": "FaAswmTDn8Pm"
      },
      "source": [
        "# for, enumerate문 자유자재로 익히기\n",
        "# 우리가 하는 프로젝트에서 많이 사용할 예정"
      ],
      "execution_count": null,
      "outputs": []
    },
    {
      "cell_type": "code",
      "metadata": {
        "colab": {
          "base_uri": "https://localhost:8080/"
        },
        "id": "JjGnDluWL9gF",
        "outputId": "511b532c-5924-4b02-f215-1965ab760a27"
      },
      "source": [
        "animals = ['cat', 'dog', 'monkey']\n",
        "for idx, animal in enumerate(animals):\n",
        "    print(f'#{idx+1}: {animal}')"
      ],
      "execution_count": null,
      "outputs": [
        {
          "output_type": "stream",
          "text": [
            "#1: cat\n",
            "#2: dog\n",
            "#3: monkey\n"
          ],
          "name": "stdout"
        }
      ]
    },
    {
      "cell_type": "markdown",
      "metadata": {
        "id": "arrLCcMyL9gK"
      },
      "source": [
        "####리스트 표현식(List comprehensions):"
      ]
    },
    {
      "cell_type": "markdown",
      "metadata": {
        "id": "5Qn2jU_pL9gL"
      },
      "source": [
        "주어진 리스트를 다른 값의 요소로 구성된 리스트로 만들어야 하는 경우가 자주 발생합니다. 리스트 요소들을 제곱값으로 바꾸어야 하는 아래 예를 생각해 봅시다."
      ]
    },
    {
      "cell_type": "code",
      "metadata": {
        "colab": {
          "base_uri": "https://localhost:8080/"
        },
        "id": "IVNEwoMXL9gL",
        "outputId": "069aafc3-3443-42b6-ccfe-15bce3d96a6c"
      },
      "source": [
        "nums = [0, 1, 2, 3, 4]\n",
        "squares = []\n",
        "for x in nums:\n",
        "    squares.append(x ** 2)\n",
        "print(squares)"
      ],
      "execution_count": null,
      "outputs": [
        {
          "output_type": "stream",
          "text": [
            "[0, 1, 4, 9, 16]\n"
          ],
          "name": "stdout"
        }
      ]
    },
    {
      "cell_type": "markdown",
      "metadata": {
        "id": "7DmKVUFaL9gQ"
      },
      "source": [
        "리스트 표현식을 사용하면 코드를 더 간단하게 작성할 수 있습니다."
      ]
    },
    {
      "cell_type": "code",
      "metadata": {
        "colab": {
          "base_uri": "https://localhost:8080/"
        },
        "id": "kZxsUfV6L9gR",
        "outputId": "c27fb6ed-d4b6-4a64-b42e-fca12158f43d"
      },
      "source": [
        "nums = [0, 1, 2, 3, 4]\n",
        "squares = [x ** 2 for x in nums]\n",
        "print(squares)"
      ],
      "execution_count": null,
      "outputs": [
        {
          "output_type": "stream",
          "text": [
            "[0, 1, 4, 9, 16]\n"
          ],
          "name": "stdout"
        }
      ]
    },
    {
      "cell_type": "markdown",
      "metadata": {
        "id": "-D8ARK7tL9gV"
      },
      "source": [
        "# 리스트 표현식 안에는 조건문이 들어갈 수도 있습니다."
      ]
    },
    {
      "cell_type": "code",
      "metadata": {
        "colab": {
          "base_uri": "https://localhost:8080/",
          "height": 34
        },
        "id": "yUtgOyyYL9gV",
        "outputId": "1ae7ab58-8119-44dc-8e57-fda09197d026"
      },
      "source": [
        "nums = [0, 1, 2, 3, 4]\n",
        "even_squares = [x ** 2 for x in nums if x % 2 == 0]\n",
        "print(even_squares)"
      ],
      "execution_count": null,
      "outputs": [
        {
          "output_type": "stream",
          "text": [
            "[0, 4, 16]\n"
          ],
          "name": "stdout"
        }
      ]
    },
    {
      "cell_type": "code",
      "metadata": {
        "colab": {
          "base_uri": "https://localhost:8080/"
        },
        "id": "ILNaiFbVvexG",
        "outputId": "0e3c0294-f8eb-4ace-d3fd-085ce546d404"
      },
      "source": [
        "nums = [0, 1, 2, 3, 4]\n",
        "for x in nums:\n",
        "    if x % 2 == 0:\n",
        "      print(x**2)"
      ],
      "execution_count": null,
      "outputs": [
        {
          "output_type": "stream",
          "text": [
            "0\n",
            "4\n",
            "16\n"
          ],
          "name": "stdout"
        }
      ]
    },
    {
      "cell_type": "markdown",
      "metadata": {
        "id": "H8xsUEFpL9gZ"
      },
      "source": [
        "####Dictionaries"
      ]
    },
    {
      "cell_type": "markdown",
      "metadata": {
        "id": "kkjAGMAJL9ga"
      },
      "source": [
        "- 딕셔너리(사전에서 단어를 찾듯이 값을 가져올 수 있다고 하여 '딕셔너리'라고 부름)는 값(value)마다 이름(key)를 붙여서 저장하는 방식. \n",
        "- 딕셔너리는 (key, value) 쌍을 저장합니다. 자바의 `Map`이나 자바스크립트의 객체와 유사합니다. 다음과 같이 사용할 수 있습니다."
      ]
    },
    {
      "cell_type": "code",
      "metadata": {
        "colab": {
          "base_uri": "https://localhost:8080/"
        },
        "id": "XBYI1MrYL9gb",
        "outputId": "c651ec49-1dfd-49cb-a33b-49fea647f74d"
      },
      "source": [
        "d = {'cat': 'cute', 'dog': 'furry'}  # 딕셔너리 생성\n",
        "print(d['cat'])       # key 값을 참조하여 value 값을 얻어냄; \"cute\" 출력\n",
        "print('cat' in d)     # 딕셔너리에 해당 key가 들어있는지 확인; \"True\" 출력"
      ],
      "execution_count": 2,
      "outputs": [
        {
          "output_type": "stream",
          "text": [
            "cute\n",
            "True\n"
          ],
          "name": "stdout"
        }
      ]
    },
    {
      "cell_type": "code",
      "metadata": {
        "colab": {
          "base_uri": "https://localhost:8080/"
        },
        "id": "pS7e-G-HL9gf",
        "outputId": "70d80f94-e76d-4819-c314-eb3a1c7e7939"
      },
      "source": [
        "d['fish'] = 'wet'    # 딕셔너리의 한 엔트리(key,value)를 작성\n",
        "print(d['fish'])      # \"wet\" 출력"
      ],
      "execution_count": 3,
      "outputs": [
        {
          "output_type": "stream",
          "text": [
            "wet\n"
          ],
          "name": "stdout"
        }
      ]
    },
    {
      "cell_type": "code",
      "metadata": {
        "colab": {
          "base_uri": "https://localhost:8080/",
          "height": 169
        },
        "id": "tFY065ItL9gi",
        "outputId": "2b2ef68c-a0e6-493f-cb33-d857203eaba6"
      },
      "source": [
        "print(d['monkey'])  # KeyError: 딕셔너리 d에 'monkey' 라는 key가 없기 때문"
      ],
      "execution_count": 4,
      "outputs": [
        {
          "output_type": "error",
          "ename": "KeyError",
          "evalue": "ignored",
          "traceback": [
            "\u001b[0;31m---------------------------------------------------------------------------\u001b[0m",
            "\u001b[0;31mKeyError\u001b[0m                                  Traceback (most recent call last)",
            "\u001b[0;32m<ipython-input-4-cdf4cfabb8b6>\u001b[0m in \u001b[0;36m<module>\u001b[0;34m()\u001b[0m\n\u001b[0;32m----> 1\u001b[0;31m \u001b[0mprint\u001b[0m\u001b[0;34m(\u001b[0m\u001b[0md\u001b[0m\u001b[0;34m[\u001b[0m\u001b[0;34m'monkey'\u001b[0m\u001b[0;34m]\u001b[0m\u001b[0;34m)\u001b[0m  \u001b[0;31m# KeyError: 딕셔너리 d에 'monkey' 라는 key가 없기 때문\u001b[0m\u001b[0;34m\u001b[0m\u001b[0;34m\u001b[0m\u001b[0m\n\u001b[0m",
            "\u001b[0;31mKeyError\u001b[0m: 'monkey'"
          ]
        }
      ]
    },
    {
      "cell_type": "code",
      "metadata": {
        "colab": {
          "base_uri": "https://localhost:8080/"
        },
        "id": "8TjbEWqML9gl",
        "outputId": "c27e1370-c665-4c18-c3ce-22aad24a0a33"
      },
      "source": [
        "print(d.get('monkey', 'N/A'))  # 'monkey'라는 key가 있으면 value를, 없으면 default 출력; \"N/A\" 출력\n",
        "print(d.get('fish', 'N/A'))    # 'fish'라는 key가 있으면 value를, 없으면 default 출력; \"wet\" 출력"
      ],
      "execution_count": 5,
      "outputs": [
        {
          "output_type": "stream",
          "text": [
            "N/A\n",
            "wet\n"
          ],
          "name": "stdout"
        }
      ]
    },
    {
      "cell_type": "code",
      "metadata": {
        "colab": {
          "base_uri": "https://localhost:8080/"
        },
        "id": "88c1FezXpikS",
        "outputId": "6f6071ed-df3b-4761-a9f1-6cdc8cc5a994"
      },
      "source": [
        "# get함수에 key를 써야한다\n",
        "# value쓰면 안됨\n",
        "print(d.get('cat', 'N/A'))"
      ],
      "execution_count": 6,
      "outputs": [
        {
          "output_type": "stream",
          "text": [
            "cute\n"
          ],
          "name": "stdout"
        }
      ]
    },
    {
      "cell_type": "code",
      "metadata": {
        "colab": {
          "base_uri": "https://localhost:8080/",
          "height": 34
        },
        "id": "0EItdNBJL9go",
        "outputId": "652a950f-b0c2-4623-98bd-0191b300cd57"
      },
      "source": [
        "del d['fish']        # 해당 (key, value) 삭제\n",
        "print(d.get('fish', 'N/A')) # 삭제 후, \"fish\"라는 key는 검색 불가; \"N/A\" 출력"
      ],
      "execution_count": null,
      "outputs": [
        {
          "output_type": "stream",
          "text": [
            "N/A\n"
          ],
          "name": "stdout"
        }
      ]
    },
    {
      "cell_type": "markdown",
      "metadata": {
        "id": "wqm4dRZNL9gr"
      },
      "source": [
        "딕셔너리 자세한 사항은 [공식 문서](https://docs.python.org/2/library/stdtypes.html#dict)에서 확인하세요."
      ]
    },
    {
      "cell_type": "markdown",
      "metadata": {
        "id": "IxwEqHlGL9gr"
      },
      "source": [
        "딕셔너리의 key를 하나씩 순회(iterate)할 수 있습니다."
      ]
    },
    {
      "cell_type": "code",
      "metadata": {
        "id": "9JZG1ixpp5v_"
      },
      "source": [
        "# items() 메서드 = enumerate함수와 동일"
      ],
      "execution_count": null,
      "outputs": []
    },
    {
      "cell_type": "code",
      "metadata": {
        "colab": {
          "base_uri": "https://localhost:8080/"
        },
        "id": "rYfz7ZKNL9gs",
        "outputId": "a3cb723b-40bc-44d2-f6c1-9879e98864ca"
      },
      "source": [
        "d = {'person': 2, 'cat': 4, 'spider': 8}\n",
        "for animal, legs in d.items():\n",
        "    print(f'A {animal} has {legs} legs')"
      ],
      "execution_count": null,
      "outputs": [
        {
          "output_type": "stream",
          "text": [
            "A person has 2 legs\n",
            "A cat has 4 legs\n",
            "A spider has 8 legs\n"
          ],
          "name": "stdout"
        }
      ]
    },
    {
      "cell_type": "markdown",
      "metadata": {
        "id": "17sxiOpzL9gz"
      },
      "source": [
        "딕셔너리 표현식: 리스트 표현식과 유사합니다."
      ]
    },
    {
      "cell_type": "markdown",
      "metadata": {
        "id": "MmS_-mftu3RE"
      },
      "source": [
        ""
      ]
    },
    {
      "cell_type": "code",
      "metadata": {
        "colab": {
          "base_uri": "https://localhost:8080/"
        },
        "id": "8PB07imLL9gz",
        "outputId": "4e264858-ef01-4600-d4c7-acd91e59c552"
      },
      "source": [
        "nums = [0, 1, 2, 3, 4]\n",
        "even_num_to_square = {x: x ** 2 for x in nums if x % 2 == 0}\n",
        "print(even_num_to_square)"
      ],
      "execution_count": null,
      "outputs": [
        {
          "output_type": "stream",
          "text": [
            "{0: 0, 2: 4, 4: 16}\n"
          ],
          "name": "stdout"
        }
      ]
    },
    {
      "cell_type": "code",
      "metadata": {
        "colab": {
          "base_uri": "https://localhost:8080/"
        },
        "id": "YBTZDOMjkRYg",
        "outputId": "0b6abbfc-02e4-4eeb-e53c-b42bbae977f2"
      },
      "source": [
        "# 딕셔너리 key의 개수 구하기\n",
        "d = {'person': 2, 'cat': 4, 'spider': 8}\n",
        "len(d)"
      ],
      "execution_count": 8,
      "outputs": [
        {
          "output_type": "execute_result",
          "data": {
            "text/plain": [
              "3"
            ]
          },
          "metadata": {
            "tags": []
          },
          "execution_count": 8
        }
      ]
    },
    {
      "cell_type": "markdown",
      "metadata": {
        "id": "V9MHfUdvL9g2"
      },
      "source": [
        "####Sets"
      ]
    },
    {
      "cell_type": "markdown",
      "metadata": {
        "id": "Rpm4UtNpL9g2"
      },
      "source": [
        "집합(set)은 중복되지 않는 요소들을 정해진 순서 없이 모아놓은 요소 묶음입니다."
      ]
    },
    {
      "cell_type": "code",
      "metadata": {
        "colab": {
          "base_uri": "https://localhost:8080/",
          "height": 52
        },
        "id": "MmyaniLsL9g2",
        "outputId": "8f152d48-0a07-432a-cf98-8de4fd57ddbb"
      },
      "source": [
        "animals = {'cat', 'dog'}\n",
        "print('cat' in animals)   # set 에 특정 요소가 있는지 확인; \"True\" 출력\n",
        "print('fish' in animals)  # \"False\" 출력\n"
      ],
      "execution_count": null,
      "outputs": [
        {
          "output_type": "stream",
          "text": [
            "True\n",
            "False\n"
          ],
          "name": "stdout"
        }
      ]
    },
    {
      "cell_type": "code",
      "metadata": {
        "id": "DKcI40-wq7oJ"
      },
      "source": [
        "# list는 append(), set은 add() 사용해서 요소 추가"
      ],
      "execution_count": null,
      "outputs": []
    },
    {
      "cell_type": "code",
      "metadata": {
        "colab": {
          "base_uri": "https://localhost:8080/",
          "height": 52
        },
        "id": "ElJEyK86L9g6",
        "outputId": "b9d7dab9-5a98-41cd-efbc-786d0c4377f7"
      },
      "source": [
        "animals.add('fish')      # set에 요소를 추가\n",
        "print('fish' in animals)\n",
        "print(len(animals))       # set의 요소 개수"
      ],
      "execution_count": null,
      "outputs": [
        {
          "output_type": "stream",
          "text": [
            "True\n",
            "3\n"
          ],
          "name": "stdout"
        }
      ]
    },
    {
      "cell_type": "code",
      "metadata": {
        "colab": {
          "base_uri": "https://localhost:8080/",
          "height": 52
        },
        "id": "5uGmrxdPL9g9",
        "outputId": "e644d24c-26c6-4b43-ab15-8aa81fe884d4"
      },
      "source": [
        "animals.add('cat')       # set에 이미 있는 요소를 추가해도 set 요소 개수는 변하지 않음\n",
        "print(len(animals))       \n",
        "animals.remove('cat')    # set 요소 삭제\n",
        "print(len(animals))       "
      ],
      "execution_count": null,
      "outputs": [
        {
          "output_type": "stream",
          "text": [
            "3\n",
            "2\n"
          ],
          "name": "stdout"
        }
      ]
    },
    {
      "cell_type": "markdown",
      "metadata": {
        "id": "zk2DbvLKL9g_"
      },
      "source": [
        "_Loops_: set를 순회할 때에도 리스트 순회할 때와 동일한 문법을 사용합니다. 하지만 set는 요소간 순서가 지정되어 있지 않으므로 set 작성 순서와 실제 인덱스의 순서가 서로 다를 수 있습니다."
      ]
    },
    {
      "cell_type": "code",
      "metadata": {
        "colab": {
          "base_uri": "https://localhost:8080/"
        },
        "id": "BXyu4tV5mplP",
        "outputId": "76d1bd76-0470-489b-ce19-aa1f136afb4c"
      },
      "source": [
        "# set은 unordered타입, 중복된 요소를 허락하지 않는다\n",
        "a = {'cat', 'dog', 'cat'}\n",
        "len(a)"
      ],
      "execution_count": 15,
      "outputs": [
        {
          "output_type": "execute_result",
          "data": {
            "text/plain": [
              "2"
            ]
          },
          "metadata": {
            "tags": []
          },
          "execution_count": 15
        }
      ]
    },
    {
      "cell_type": "code",
      "metadata": {
        "colab": {
          "base_uri": "https://localhost:8080/"
        },
        "id": "VJmfqk0gm8Cq",
        "outputId": "201f43f5-a4df-4fff-c0dd-8798e106648d"
      },
      "source": [
        "# list는 ordered타입, 중복된 요소 허용\n",
        "b = ['cat', 'dog', 'cat']\n",
        "len(b)"
      ],
      "execution_count": 16,
      "outputs": [
        {
          "output_type": "execute_result",
          "data": {
            "text/plain": [
              "3"
            ]
          },
          "metadata": {
            "tags": []
          },
          "execution_count": 16
        }
      ]
    },
    {
      "cell_type": "code",
      "metadata": {
        "colab": {
          "base_uri": "https://localhost:8080/"
        },
        "id": "K47KYNGyL9hA",
        "outputId": "4b35106b-9b04-4347-ff4f-90a48af122c0"
      },
      "source": [
        "animals = {'cat', 'dog', 'fish'}\n",
        "for idx, animal in enumerate(animals):\n",
        "    print(f'#{idx+1}: {animal}')"
      ],
      "execution_count": 17,
      "outputs": [
        {
          "output_type": "stream",
          "text": [
            "#1: fish\n",
            "#2: dog\n",
            "#3: cat\n"
          ],
          "name": "stdout"
        }
      ]
    },
    {
      "cell_type": "markdown",
      "metadata": {
        "id": "puq4S8buL9hC"
      },
      "source": [
        "집합 표현식: 리스트 표현식, 딕셔너리 표현식과 문법이 유사합니다."
      ]
    },
    {
      "cell_type": "code",
      "metadata": {
        "colab": {
          "base_uri": "https://localhost:8080/"
        },
        "id": "iw7k90k3L9hC",
        "outputId": "acb20e7f-ffa2-4e94-8e9b-a19b466c1c5e"
      },
      "source": [
        "from math import sqrt\n",
        "print({int(sqrt(x)) for x in range(30)})"
      ],
      "execution_count": 18,
      "outputs": [
        {
          "output_type": "stream",
          "text": [
            "{0, 1, 2, 3, 4, 5}\n"
          ],
          "name": "stdout"
        }
      ]
    },
    {
      "cell_type": "markdown",
      "metadata": {
        "id": "qPsHSKB1L9hF"
      },
      "source": [
        "####Tuples"
      ]
    },
    {
      "cell_type": "markdown",
      "metadata": {
        "id": "kucc0LKVL9hG"
      },
      "source": [
        "튜플은 리스트와 거의 유사한 자료형입니다. 단, 리스트와는 달리, 튜플은 딕셔너리의 key나 집합의 요소가 될 수 있습니다. \n",
        "리스트는 한번 생성하면 요소를 바꿀 수 있지만(실무에서 많이 쓰임), 튜플은 한번 생성하면 요소를 바꿀 수 없다."
      ]
    },
    {
      "cell_type": "code",
      "metadata": {
        "id": "LI3GBw5csTzV"
      },
      "source": [
        "# https://dojang.io/mod/page/view.php?id=2201"
      ],
      "execution_count": null,
      "outputs": []
    },
    {
      "cell_type": "code",
      "metadata": {
        "colab": {
          "base_uri": "https://localhost:8080/"
        },
        "id": "so3KtcKLsvuA",
        "outputId": "33b0377e-f9d3-4b40-b25b-06e1e1f28e9e"
      },
      "source": [
        "d = {(x, x + 1): x for x in range(10)}  # 튜플을 key로 하는 딕셔너리 생성\n",
        "print(d)\n",
        "t = (5, 6)       # 튜플 생성\n",
        "print(type(t))\n",
        "print(d[t])       \n",
        "print(d[(1, 2)])"
      ],
      "execution_count": 20,
      "outputs": [
        {
          "output_type": "stream",
          "text": [
            "{(0, 1): 0, (1, 2): 1, (2, 3): 2, (3, 4): 3, (4, 5): 4, (5, 6): 5, (6, 7): 6, (7, 8): 7, (8, 9): 8, (9, 10): 9}\n",
            "<class 'tuple'>\n",
            "5\n",
            "1\n"
          ],
          "name": "stdout"
        }
      ]
    },
    {
      "cell_type": "code",
      "metadata": {
        "colab": {
          "base_uri": "https://localhost:8080/",
          "height": 169
        },
        "id": "HoO8zYKzL9hJ",
        "outputId": "899b54d2-3daf-43ff-b569-97d6c506fcb7"
      },
      "source": [
        "t[0] = 1"
      ],
      "execution_count": 21,
      "outputs": [
        {
          "output_type": "error",
          "ename": "TypeError",
          "evalue": "ignored",
          "traceback": [
            "\u001b[0;31m---------------------------------------------------------------------------\u001b[0m",
            "\u001b[0;31mTypeError\u001b[0m                                 Traceback (most recent call last)",
            "\u001b[0;32m<ipython-input-21-c8aeb8cd20ae>\u001b[0m in \u001b[0;36m<module>\u001b[0;34m()\u001b[0m\n\u001b[0;32m----> 1\u001b[0;31m \u001b[0mt\u001b[0m\u001b[0;34m[\u001b[0m\u001b[0;36m0\u001b[0m\u001b[0;34m]\u001b[0m \u001b[0;34m=\u001b[0m \u001b[0;36m1\u001b[0m\u001b[0;34m\u001b[0m\u001b[0;34m\u001b[0m\u001b[0m\n\u001b[0m",
            "\u001b[0;31mTypeError\u001b[0m: 'tuple' object does not support item assignment"
          ]
        }
      ]
    },
    {
      "cell_type": "markdown",
      "metadata": {
        "id": "AXA4jrEOL9hM"
      },
      "source": [
        "###Functions"
      ]
    },
    {
      "cell_type": "markdown",
      "metadata": {
        "id": "WaRms-QfL9hN"
      },
      "source": [
        "Python 함수는 `def` 라는 키워드로 정의됩니다."
      ]
    },
    {
      "cell_type": "code",
      "metadata": {
        "colab": {
          "base_uri": "https://localhost:8080/"
        },
        "id": "kiMDUr58L9hN",
        "outputId": "05505317-cb17-4384-c63c-c2ba7aaaa605"
      },
      "source": [
        "def sign(x):\n",
        "    if x > 0:\n",
        "        return 'positive'\n",
        "    elif x < 0:\n",
        "        return 'negative'\n",
        "    else:\n",
        "        return 'zero'\n",
        "\n",
        "for x in [-1, 0, 1]:\n",
        "    print(sign(x))"
      ],
      "execution_count": 24,
      "outputs": [
        {
          "output_type": "stream",
          "text": [
            "negative\n",
            "zero\n",
            "positive\n"
          ],
          "name": "stdout"
        }
      ]
    },
    {
      "cell_type": "markdown",
      "metadata": {
        "id": "U-QJFt8TL9hR"
      },
      "source": [
        "함수를 정의할 때 옵셔널한 키워드를 추가할 수 있습니다."
      ]
    },
    {
      "cell_type": "code",
      "metadata": {
        "colab": {
          "base_uri": "https://localhost:8080/"
        },
        "id": "PfsZ3DazL9hR",
        "outputId": "857bc6ef-97b9-43d3-e51f-34a2fe5ba5a0"
      },
      "source": [
        "def hello(name, loud=False):\n",
        "    if loud:\n",
        "        print(f'HELLO, {name.upper()}')\n",
        "    else:\n",
        "        print(f'Hello, {name}!')\n",
        "\n",
        "hello('Bob')\n",
        "hello('Bob', loud=True)\n",
        "hello('Fred', loud=True)\n",
        "hello('Fred')"
      ],
      "execution_count": 25,
      "outputs": [
        {
          "output_type": "stream",
          "text": [
            "Hello, Bob!\n",
            "HELLO, BOB\n",
            "HELLO, FRED\n",
            "Hello, Fred!\n"
          ],
          "name": "stdout"
        }
      ]
    },
    {
      "cell_type": "markdown",
      "metadata": {
        "id": "ObA9PRtQL9hT"
      },
      "source": [
        "###Classes"
      ]
    },
    {
      "cell_type": "markdown",
      "metadata": {
        "id": "hAzL_lTkL9hU"
      },
      "source": [
        "Python에서 클래스를 정의할 때에는 말 그대로 class 라는 키워드를 사용합니다.\n",
        "class를 사용하면 프로그래밍 시간을 많이 절약할 수 있다."
      ]
    },
    {
      "cell_type": "code",
      "metadata": {
        "id": "-rJqpwxjyKhs"
      },
      "source": [
        "# https://dojang.io/mod/page/view.php?id=2373"
      ],
      "execution_count": null,
      "outputs": []
    },
    {
      "cell_type": "code",
      "metadata": {
        "colab": {
          "base_uri": "https://localhost:8080/"
        },
        "id": "RWdbaGigL9hU",
        "outputId": "c39f8985-275c-4484-9e9a-18607a6cd1a2"
      },
      "source": [
        "class Greeter:\n",
        "\n",
        "    # 생성자: __init__\n",
        "    # 모든 클래스를 만들때 기본적으로 만들어준다\n",
        "    def __init__(self, name): #\n",
        "        self.name = name  # 인스턴스 변수 생성\n",
        "\n",
        "    # 인스턴스 메서드\n",
        "    def greet(self, loud=False):\n",
        "        if loud:\n",
        "          print(f'HELLO, {self.name.upper()}')\n",
        "        else:\n",
        "          print(f'Hello, {self.name}!')\n",
        "\n",
        "g = Greeter('Fred')  # 클래스 Greeter의 인스턴스 생성\b\n",
        "print(g.name)        # 객체 g의 생성자를 통해 만들어진 변수 name 출력\n",
        "g.greet()            # 인스턴스 메서드 호출; \"Hello, Fred\" 출력\n",
        "g.greet(loud=True)   # 인스턴스 메서드 호출; \"HELLO, FRED!\" 출력"
      ],
      "execution_count": 28,
      "outputs": [
        {
          "output_type": "stream",
          "text": [
            "Fred\n",
            "Hello, Fred!\n",
            "HELLO, FRED\n"
          ],
          "name": "stdout"
        }
      ]
    },
    {
      "cell_type": "code",
      "metadata": {
        "colab": {
          "base_uri": "https://localhost:8080/"
        },
        "id": "MHpVqN8Kw9Kj",
        "outputId": "9684921d-eae0-4ed7-9475-3b271c01bd0b"
      },
      "source": [
        "g = Greeter('파이썬 중급') \n",
        "print(g.name)"
      ],
      "execution_count": 29,
      "outputs": [
        {
          "output_type": "stream",
          "text": [
            "파이썬 중급\n"
          ],
          "name": "stdout"
        }
      ]
    },
    {
      "cell_type": "markdown",
      "metadata": {
        "id": "3cfrOV4dL9hW"
      },
      "source": [
        "##Regular Expression"
      ]
    },
    {
      "cell_type": "markdown",
      "metadata": {
        "id": "fY12nHhyL9hX"
      },
      "source": [
        "정규표현식(정규식;Regular expression)은 문자열의 복잡한 패턴을 활용하여 처리할 때 사용하는 기법으로, Python 뿐 아니라 문자열을 다루는 모든 곳에서 사용합니다.\n",
        "따라서 **정규표현식은 그 자체로 독립된 영역의 학습 대상**입니다. Python에서는 re라는 라이브러리에서 정규표현식 처리 함수를 제공합니다.\n",
        "\n",
        "정규표현식은 웹크롤링을 할 때 많이 사용. 자연어를 전처리하기 위한 많은 라이브러리들이 있지만, 라이브러리를 사용해도 데이터가 완벽하게 정제되지 않기 때문에 정규표현식을 많이 사용한다."
      ]
    },
    {
      "cell_type": "markdown",
      "metadata": {
        "id": "lZMyAdqhL9hY"
      },
      "source": [
        "re를 사용하기 위해서는 `re` 패키지를 불러와야 합니다."
      ]
    },
    {
      "cell_type": "code",
      "metadata": {
        "id": "58QdX8BLL9hZ"
      },
      "source": [
        "# 정규표현식 지원하는 스탠다드 라이브러리\n",
        "import re"
      ],
      "execution_count": 30,
      "outputs": []
    },
    {
      "cell_type": "markdown",
      "metadata": {
        "id": "DDx6v1EdL9hb"
      },
      "source": [
        "###메타 문자"
      ]
    },
    {
      "cell_type": "markdown",
      "metadata": {
        "id": "f-Zv3f7LL9hc"
      },
      "source": [
        "메타 문자는 정규표현식에서 특별한 용도로 사용하는 문자입니다."
      ]
    },
    {
      "cell_type": "markdown",
      "metadata": {
        "id": "_eMTRnZRL9hc"
      },
      "source": [
        "#### 주요 메타문자 목록\n",
        "```\n",
        ". ^ $ * + ? { } [ ] \\ | ( )\n",
        "```\n",
        "#### 메타문자별 의미와 예\n",
        "```\n",
        "[abc]        # a 혹은 b 혹은 c # a,b,c중 어느하나로 매칭이 된다면 가져와라\n",
        "```\n",
        "```\n",
        "[0-9]        # 0부터 9까지의 정수값 중 하나. [0123456789]와 동일 # 알파벳, 숫자, 한글만 사용가능, range의 의미\n",
        "```              \n",
        "```\n",
        "[a-zA-Z]     # 소문자 a부터 z, 대문자 A부터 Z까지의 알파벳 중 하나\n",
        "```\n",
        "```\n",
        "[^0-9]       # 0부터 9까지의 정수값이 아닌 값\n",
        "```\n",
        "```\n",
        "[0-9]?       # 0부터 9까지의 정수값이 있거나 없거나\n",
        "```\n",
        "```\n",
        "\\d           # [0-9]와 동일\n",
        "```\n",
        "```\n",
        "\\D           # [^0-9]와 동일\n",
        "```\n",
        "```\n",
        "\\w           # 숫자 혹은 알파벳. [0-9a-zA-Z_]와 동일. \n",
        "```\n",
        "```\n",
        "\\W           # 숫자 혹은 알파벳이 아닌 문자. [^0-9a-zA-Z_]와 동일. \n",
        "```\n",
        "```\n",
        "\\s           # 공백. [ \\t\\n\\r\\f\\v]과 동일\n",
        "```\n",
        "```\n",
        "\\S           # 공백이 아닌 문자. [^ \\t\\n\\r\\f\\v]과 동일\n",
        "```\n",
        "```\n",
        "ya?          # ya에서 a가 등장하지 않거나 1회 등장하거나. y, ya\n",
        "```\n",
        "```\n",
        "ya{3}        # ya에서 a가 3회 반복. yaaa\n",
        "```\n",
        "```\n",
        "ya{3,5}      # ya에서 a가 3회 이상 5회 이하 반복. yaaa, yaaaa, yaaaaa\n",
        "```\n",
        "```\n",
        "ya+          # ya에서 a가 1회 이상 반복. ya, yaa, yaaa, ...\n",
        "```\n",
        "```\n",
        "ya*          # ya에서 a가 0회 이상 반복. y, ya, yaa, yaaa, ...\n",
        "```\n",
        "```\n",
        "(ab|c|def)   # ab 혹은 c 혹은 def\n",
        "```\n",
        "```\n",
        "가.다         # .은 모든 문자와 매치. 가나다, 가a다, 가!다, 가0다, 가\\t다, ...\n",
        "```\n",
        "```\n",
        "^\\d[a-z]     # 문자열의 맨 첫 두 문자가 숫자와 소문자 알파벳의 연쇄. 1z87384, 3t가나다라, 0r!>hi, ...\n",
        "```\n",
        "```\n",
        "\\d[a-z]$     # 문자열의 맨 끝 두 문자가 숫자와 소문자 알파벳의 연쇄. 873841z, 가나다라3t, !>hi0r, ...\n",
        "```\n",
        "```\n",
        "^\\d[a-z]$    # 문자열이 숫자로 시작해서 소문자 알파벳으로 끝남. 1z, 3t, 0r, ...\n",
        "```\n",
        "```\n",
        "[wW]hy\\?     # 메타 문자로서의 ?가 아닌 문장부호로서의 ?를 검색하고 싶을 경우 백슬래시로 escape. Why?, why?\n",
        "```\n",
        "\n",
        "\n",
        "\n",
        "\n",
        "\n"
      ]
    },
    {
      "cell_type": "markdown",
      "metadata": {
        "id": "kORSpNNm49DP"
      },
      "source": [
        "### re.search"
      ]
    },
    {
      "cell_type": "markdown",
      "metadata": {
        "id": "3TIBNOeMabtX"
      },
      "source": [
        "re.search는 문자열 전체를 검색하여 정규식과 일치하는 부분을 찾아냅니다."
      ]
    },
    {
      "cell_type": "code",
      "metadata": {
        "colab": {
          "base_uri": "https://localhost:8080/"
        },
        "id": "93OduvnmCXaJ",
        "outputId": "16ef9d9d-b592-45ff-cbdc-c2cceed06b1b"
      },
      "source": [
        "p = re.compile(\"\\w+\") # alpha-numeric 1회 이상 반복\n",
        "m = p.search(\"doggy\")\n",
        "print(m)\n",
        "if m:\n",
        "  print(\"found\")\n",
        "else:\n",
        "  print(\"nothing\")\n",
        "print(m.group()) # 패턴에 걸린 전체 청크 출력\n",
        "print(m.start()) #string 패턴이 걸리는 인덱스\n",
        "print(m.end()) # string 패턴이 걸리는 마지막 인덱스(5가 쓰여져있지만, 포함이 되지 않는다, value의 갯수로 생각하면 이해하기 쉽다)\n",
        "print(m.span()) # 끝, 시작 튜플형태로 출력"
      ],
      "execution_count": 31,
      "outputs": [
        {
          "output_type": "stream",
          "text": [
            "<re.Match object; span=(0, 5), match='doggy'>\n",
            "found\n",
            "doggy\n",
            "0\n",
            "5\n",
            "(0, 5)\n"
          ],
          "name": "stdout"
        }
      ]
    },
    {
      "cell_type": "code",
      "metadata": {
        "id": "dbjgmv0QXAZ4"
      },
      "source": [
        "p = re.compile(\"@\\w+\\.com\") # email 주소 .com 패턴"
      ],
      "execution_count": 32,
      "outputs": []
    },
    {
      "cell_type": "code",
      "metadata": {
        "colab": {
          "base_uri": "https://localhost:8080/"
        },
        "id": "22fNHXS4Zxqt",
        "outputId": "c05dba34-d966-4773-84cc-d74f5e1d6b2a"
      },
      "source": [
        "# search success\n",
        "m1 = p.search(\"aaa@google.com\")\n",
        "if m1:\n",
        "  print(f\"서치 성공: {m1.group()}, {m1.start()}, {m1.end()}, {m1.span()} \")\n",
        "else:\n",
        "  print(f\"서치 실패: {m1}\")\n"
      ],
      "execution_count": 33,
      "outputs": [
        {
          "output_type": "stream",
          "text": [
            "서치 성공: @google.com, 3, 14, (3, 14) \n"
          ],
          "name": "stdout"
        }
      ]
    },
    {
      "cell_type": "code",
      "metadata": {
        "colab": {
          "base_uri": "https://localhost:8080/"
        },
        "id": "O9m3Xc2sZxYJ",
        "outputId": "b1a4cc2b-05e7-4077-a82e-4913daaada47"
      },
      "source": [
        "# search failure\n",
        "m2 = p.search(\"aaa@hanmail.net\")\n",
        "if m2:\n",
        "    print(f\"서치 성공: {m2.group()}, {m2.start()}, {m2.end()}, {m2.span()} \")\n",
        "else:\n",
        "  print(f\"서치 실패: {m2}\")"
      ],
      "execution_count": 34,
      "outputs": [
        {
          "output_type": "stream",
          "text": [
            "서치 실패: None\n"
          ],
          "name": "stdout"
        }
      ]
    },
    {
      "cell_type": "markdown",
      "metadata": {
        "id": "T79YU9yg6GD0"
      },
      "source": [
        "###re.match"
      ]
    },
    {
      "cell_type": "markdown",
      "metadata": {
        "id": "VK33mhgCatLw"
      },
      "source": [
        "re.match는 문자열의 시작부터 정규식과 일치하는 부분을 찾아냅니다."
      ]
    },
    {
      "cell_type": "code",
      "metadata": {
        "id": "nIW4Z8KyVkJn"
      },
      "source": [
        "p = re.compile(\"[a-zA-Z]+\") # alphabet 1회 이상 반복"
      ],
      "execution_count": 35,
      "outputs": []
    },
    {
      "cell_type": "code",
      "metadata": {
        "colab": {
          "base_uri": "https://localhost:8080/"
        },
        "id": "Z5kAA5WCZ9sS",
        "outputId": "e47ed3ea-9a8c-414f-e4c3-060f354b4729"
      },
      "source": [
        "# search success\n",
        "m1 = p.match(\"Hello!\")\n",
        "if m1:\n",
        "  print(f\"서치 성공: {m1.group()}, {m1.start()}, {m1.end()}, {m1.span()} \")\n",
        "else:\n",
        "  print(f\"서치 실패: {m1}\")"
      ],
      "execution_count": 36,
      "outputs": [
        {
          "output_type": "stream",
          "text": [
            "서치 성공: Hello, 0, 5, (0, 5) \n"
          ],
          "name": "stdout"
        }
      ]
    },
    {
      "cell_type": "code",
      "metadata": {
        "colab": {
          "base_uri": "https://localhost:8080/"
        },
        "id": "-ttIye03VsJK",
        "outputId": "e1d11d84-9498-4e4c-e537-56ecafc1bea4"
      },
      "source": [
        "# search failure\n",
        "m2 = p.match(\"2021, hello!\")\n",
        "if m2:\n",
        "  print(f\"서치 성공: {m2.group()}, {m2.start()}, {m2.end()}, {m2.span()} \")\n",
        "else:\n",
        "  print(f\"서치 실패: {m2}\")"
      ],
      "execution_count": 37,
      "outputs": [
        {
          "output_type": "stream",
          "text": [
            "서치 실패: None\n"
          ],
          "name": "stdout"
        }
      ]
    },
    {
      "cell_type": "code",
      "metadata": {
        "colab": {
          "base_uri": "https://localhost:8080/"
        },
        "id": "27bB9mer7tSl",
        "outputId": "0ba7a0aa-3109-43c5-ad4f-bb8fb811709b"
      },
      "source": [
        "# search failure\n",
        "m2 = p.match(\"2hello!\")\n",
        "if m2:\n",
        "  print(f\"서치 성공: {m2.group()}, {m2.start()}, {m2.end()}, {m2.span()} \")\n",
        "else:\n",
        "  print(f\"서치 실패: {m2}\")"
      ],
      "execution_count": 38,
      "outputs": [
        {
          "output_type": "stream",
          "text": [
            "서치 실패: None\n"
          ],
          "name": "stdout"
        }
      ]
    },
    {
      "cell_type": "code",
      "metadata": {
        "id": "UmZsLabm7ID4"
      },
      "source": [
        "# match가 search보다 연산속도가 더 빠르다"
      ],
      "execution_count": null,
      "outputs": []
    },
    {
      "cell_type": "markdown",
      "metadata": {
        "id": "V-lZW0Jx6Hy3"
      },
      "source": [
        "###re.findall"
      ]
    },
    {
      "cell_type": "markdown",
      "metadata": {
        "id": "OA1YDjf-a_ii"
      },
      "source": [
        "re.findall은 문자열 전체를 검색하여 정규식과 일치하는 부분 전체를 리스트로 반환합니다."
      ]
    },
    {
      "cell_type": "code",
      "metadata": {
        "id": "jM8i3AGBbHqm"
      },
      "source": [
        "p = re.compile(\"(하세요|하지요|싶어요)\")"
      ],
      "execution_count": 39,
      "outputs": []
    },
    {
      "cell_type": "code",
      "metadata": {
        "colab": {
          "base_uri": "https://localhost:8080/"
        },
        "id": "0nyrgNgub-dI",
        "outputId": "cb077359-0b1a-4d99-9f53-7c612ee85520"
      },
      "source": [
        "result = p.findall(\"안녕하세요. 제 소개부터 드리도록 하지요. 저는 의미있는 일을 하고 싶어요. 건강하세요.\")\n",
        "print(result)"
      ],
      "execution_count": 40,
      "outputs": [
        {
          "output_type": "stream",
          "text": [
            "['하세요', '하지요', '싶어요', '하세요']\n"
          ],
          "name": "stdout"
        }
      ]
    },
    {
      "cell_type": "markdown",
      "metadata": {
        "id": "pzyqe2Hb6Ju7"
      },
      "source": [
        "###re.finditer"
      ]
    },
    {
      "cell_type": "markdown",
      "metadata": {
        "id": "khuxCVcPd0VK"
      },
      "source": [
        "re.finditer는 문자열 전체를 검색하여 정규식과 일치하는 부분을 반복 가능한 객체(match 객체)로 돌려줍니다."
      ]
    },
    {
      "cell_type": "code",
      "metadata": {
        "id": "-l3JrGxCL9hc"
      },
      "source": [
        "p = re.compile(\"(하세요|하지요|싶어요)\")         "
      ],
      "execution_count": 41,
      "outputs": []
    },
    {
      "cell_type": "code",
      "metadata": {
        "colab": {
          "base_uri": "https://localhost:8080/"
        },
        "id": "ma6mk-kdL9hh",
        "outputId": "67f6b00e-c0ce-4a4f-e875-20c98a188483"
      },
      "source": [
        "result = p.finditer(\"안녕하세요. 제 소개부터 드리도록 하지요. 저는 의미있는 일을 하고 싶어요. 건강하세요.\")\n",
        "print(result)"
      ],
      "execution_count": 42,
      "outputs": [
        {
          "output_type": "stream",
          "text": [
            "<callable_iterator object at 0x7f2393bec910>\n"
          ],
          "name": "stdout"
        }
      ]
    },
    {
      "cell_type": "code",
      "metadata": {
        "id": "oH0jDuj0dV0i",
        "colab": {
          "base_uri": "https://localhost:8080/"
        },
        "outputId": "1fe75fc8-3500-4a68-c2be-77136db06b52"
      },
      "source": [
        "result = p.finditer(\"안녕하세요. 제 소개부터 드리도록 하지요. 저는 의미있는 일을 하고 싶어요. 건강하세요.\")\n",
        "for r in result: \n",
        "  print(r)\n",
        "  print(r.group())"
      ],
      "execution_count": 43,
      "outputs": [
        {
          "output_type": "stream",
          "text": [
            "<re.Match object; span=(2, 5), match='하세요'>\n",
            "하세요\n",
            "<re.Match object; span=(19, 22), match='하지요'>\n",
            "하지요\n",
            "<re.Match object; span=(38, 41), match='싶어요'>\n",
            "싶어요\n",
            "<re.Match object; span=(45, 48), match='하세요'>\n",
            "하세요\n"
          ],
          "name": "stdout"
        }
      ]
    },
    {
      "cell_type": "markdown",
      "metadata": {
        "id": "YFJ1ciEmbQl-"
      },
      "source": [
        "###re.sub"
      ]
    },
    {
      "cell_type": "markdown",
      "metadata": {
        "id": "AUEMiv9SbT8g"
      },
      "source": [
        "re.sub은 정규식과 일치하는 부분을 다른 문자열로 치환합니다.\n",
        "replace 함수와 같은기능"
      ]
    },
    {
      "cell_type": "code",
      "metadata": {
        "id": "3_-WTVc6bS34"
      },
      "source": [
        "p = re.compile(\"(123)+\")"
      ],
      "execution_count": 44,
      "outputs": []
    },
    {
      "cell_type": "code",
      "metadata": {
        "colab": {
          "base_uri": "https://localhost:8080/",
          "height": 35
        },
        "id": "f39On_pDu1V2",
        "outputId": "536669b0-8991-4fc4-9137-92a5fc0432a1"
      },
      "source": [
        "# re.sub(패턴, 패턴을뭘로바꿀건지,치환대상전체string)\n",
        "re.sub(\"(123)+\", \"ttt\", \"123123kk123\")"
      ],
      "execution_count": 47,
      "outputs": [
        {
          "output_type": "execute_result",
          "data": {
            "application/vnd.google.colaboratory.intrinsic+json": {
              "type": "string"
            },
            "text/plain": [
              "'tttkkttt'"
            ]
          },
          "metadata": {
            "tags": []
          },
          "execution_count": 47
        }
      ]
    },
    {
      "cell_type": "code",
      "metadata": {
        "colab": {
          "base_uri": "https://localhost:8080/"
        },
        "id": "QZJHomo0e1DT",
        "outputId": "fc1d2e1c-8e55-4894-d375-402bb0dd5186"
      },
      "source": [
        "# 패턴오브젝트.sub(패턴을뭘로바꿀건지,치환대상전체string)\n",
        "# 123123 연쇄를 하나의 패턴으로 잡힌다.\n",
        "result = p.sub(\"ttt\", \"123123kk123\")\n",
        "print(result)"
      ],
      "execution_count": 48,
      "outputs": [
        {
          "output_type": "stream",
          "text": [
            "tttkkttt\n"
          ],
          "name": "stdout"
        }
      ]
    },
    {
      "cell_type": "markdown",
      "metadata": {
        "id": "ywTGpydpfsgP"
      },
      "source": [
        "###Grouping"
      ]
    },
    {
      "cell_type": "markdown",
      "metadata": {
        "id": "knvgZb3bfvEP"
      },
      "source": [
        "그루핑 메타 기호 ( )를 잘 활용하면, match 객체의 group 인덱스로 그루핑된 부분의 문자열을 추출할 수 있습니다."
      ]
    },
    {
      "cell_type": "code",
      "metadata": {
        "colab": {
          "base_uri": "https://localhost:8080/"
        },
        "id": "9a5asANEfcfH",
        "outputId": "29cc5409-3c29-44aa-bce8-31057b355800"
      },
      "source": [
        "p = re.compile(\"(\\w+)\\s+(\\d+[-]\\d+[-]\\d+)\")\n",
        "m = p.search(\"park 010-1234-1234\")\n",
        "print(m.group(0))\n",
        "print(m.group(1))\n",
        "print(m.group(2))"
      ],
      "execution_count": 49,
      "outputs": [
        {
          "output_type": "stream",
          "text": [
            "park 010-1234-1234\n",
            "park\n",
            "010-1234-1234\n"
          ],
          "name": "stdout"
        }
      ]
    },
    {
      "cell_type": "markdown",
      "metadata": {
        "id": "TV50I2kYgzk2"
      },
      "source": [
        "###Backreferences"
      ]
    },
    {
      "cell_type": "markdown",
      "metadata": {
        "id": "qXPSSol8g6Sy"
      },
      "source": [
        "\\1, \\2, 등의 재참조 메타 기호를 사용하여 앞서 그루핑한 문자열을 재참조 할 수 있습니다."
      ]
    },
    {
      "cell_type": "code",
      "metadata": {
        "colab": {
          "base_uri": "https://localhost:8080/"
        },
        "id": "D-abFvlihCGj",
        "outputId": "ebf4cee1-b22b-417e-a4c6-2fffb8e10ce4"
      },
      "source": [
        "p = re.compile(r\"(\\w+)\\s+\\1\") # 재참조 기호 사용시, raw string임을 알리는 r을 꼭 붙여줘야 함.\n",
        "result = p.search('Paris in the the spring').group()\n",
        "print(result)"
      ],
      "execution_count": 50,
      "outputs": [
        {
          "output_type": "stream",
          "text": [
            "the the\n"
          ],
          "name": "stdout"
        }
      ]
    },
    {
      "cell_type": "markdown",
      "metadata": {
        "id": "pXI2GyJSh0rY"
      },
      "source": [
        "###Look-ahead"
      ]
    },
    {
      "cell_type": "markdown",
      "metadata": {
        "id": "hy0yDZAjlNLt"
      },
      "source": [
        "전방 탐색(look-ahead)은 찾아내고자 하는 문자열의 패턴의 전방에 특정 조건을 걸고 싶을 때 사용합니다. \n",
        "\n",
        "전방에 X가 매치되는 조건을 걸고 싶을 때는 (?=X)\n",
        "\n",
        "전방에 X가 매치되지 않는 조건을 걸고 싶을 때는 (?!X)"
      ]
    },
    {
      "cell_type": "code",
      "metadata": {
        "colab": {
          "base_uri": "https://localhost:8080/"
        },
        "id": "ZOdw8CwciHDK",
        "outputId": "7362a2ed-8ed7-4e92-832b-c3e92585bdf0"
      },
      "source": [
        "p = re.compile(\".+(?=:)\")\n",
        "result = p.search(\"http://google.com\").group()\n",
        "print(result)"
      ],
      "execution_count": 51,
      "outputs": [
        {
          "output_type": "stream",
          "text": [
            "http\n"
          ],
          "name": "stdout"
        }
      ]
    },
    {
      "cell_type": "code",
      "metadata": {
        "colab": {
          "base_uri": "https://localhost:8080/"
        },
        "id": "gp_2swx8jW6n",
        "outputId": "7b76bebb-03e9-4863-ccc2-4578355d86f6"
      },
      "source": [
        "p = re.compile(\"[a-z]+(?![0-9])\")\n",
        "result = p.search(\"hello2021!\").group()\n",
        "print(result)"
      ],
      "execution_count": 52,
      "outputs": [
        {
          "output_type": "stream",
          "text": [
            "hell\n"
          ],
          "name": "stdout"
        }
      ]
    },
    {
      "cell_type": "markdown",
      "metadata": {
        "id": "YX5_fQENk1ot"
      },
      "source": [
        "###Look-behind"
      ]
    },
    {
      "cell_type": "markdown",
      "metadata": {
        "id": "6Z6MFQrDl3Yw"
      },
      "source": [
        "후방 탐색(look-behind)은 찾아내고자 하는 문자열의 패턴의 후방에 특정 조건을 걸고 싶을 때 사용합니다. \n",
        "\n",
        "후방에 X가 매치되는 조건을 걸고 싶을 때는 (?<=X)\n",
        "\n",
        "후방에 X가 매치되지 않는 조건을 걸고 싶을 때는 (?<!X)"
      ]
    },
    {
      "cell_type": "code",
      "metadata": {
        "colab": {
          "base_uri": "https://localhost:8080/"
        },
        "id": "PitNJhP8jKXx",
        "outputId": "a203720b-c294-412b-ff61-e92baca7dfaf"
      },
      "source": [
        "p = re.compile(\"(?<=://).+\")\n",
        "result = p.search(\"http://google.com\").group()\n",
        "print(result)"
      ],
      "execution_count": 53,
      "outputs": [
        {
          "output_type": "stream",
          "text": [
            "google.com\n"
          ],
          "name": "stdout"
        }
      ]
    },
    {
      "cell_type": "code",
      "metadata": {
        "colab": {
          "base_uri": "https://localhost:8080/"
        },
        "id": "JwNVRYJuk4EC",
        "outputId": "63e09452-1a65-490c-9924-befe62fc3a0a"
      },
      "source": [
        "p = re.compile(\"\\d+\")\n",
        "result = p.search(\"hello2021!\").group()\n",
        "print(result)"
      ],
      "execution_count": 54,
      "outputs": [
        {
          "output_type": "stream",
          "text": [
            "2021\n"
          ],
          "name": "stdout"
        }
      ]
    },
    {
      "cell_type": "code",
      "metadata": {
        "id": "DDZqROhoj5Xq"
      },
      "source": [
        "# 전방탐색, 후방탐색은 정말 많이 사용하는 방식"
      ],
      "execution_count": null,
      "outputs": []
    }
  ]
}